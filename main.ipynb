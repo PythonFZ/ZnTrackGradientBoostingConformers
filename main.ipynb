{
 "cells": [
  {
   "cell_type": "markdown",
   "metadata": {},
   "source": [
    "```mermaid\n",
    "flowchart TD\n",
    "\n",
    "    generate[Generate Structure from SMILES]\n",
    "    label[Compute Energies using xTB]\n",
    "    splitDataSet[Split dataset into train & test]\n",
    "    train[Train a GradientBoostingRegressor]\n",
    "    evaluate[Evaluate the Model on different metrics]\n",
    "\n",
    "    generate-->label-->splitDataSet-->train-->evaluate\n",
    "```"
   ]
  },
  {
   "cell_type": "code",
   "execution_count": 1,
   "metadata": {},
   "outputs": [],
   "source": [
    "from src import (\n",
    "    CreateConformers,\n",
    "    ComputeEnergies,\n",
    "    CreateDatasets,\n",
    "    TrainModel,\n",
    "    EvaluateModel,\n",
    ")\n",
    "import zntrack"
   ]
  },
  {
   "cell_type": "code",
   "execution_count": 2,
   "metadata": {},
   "outputs": [
    {
     "name": "stderr",
     "output_type": "stream",
     "text": [
      "Running DVC command: 'stage add --name CreateConformers --force ...'\n",
      "\u0000Running DVC command: 'stage add --name ComputeEnergies --force ...'\n"
     ]
    },
    {
     "name": "stdout",
     "output_type": "stream",
     "text": [
      "\u0000"
     ]
    },
    {
     "name": "stderr",
     "output_type": "stream",
     "text": [
      "Running DVC command: 'stage add --name CreateDatasets --force ...'\n",
      "\u0000"
     ]
    },
    {
     "name": "stdout",
     "output_type": "stream",
     "text": [
      "\u0000"
     ]
    },
    {
     "name": "stderr",
     "output_type": "stream",
     "text": [
      "\u0000Running DVC command: 'stage add --name TrainModel --force ...'\n"
     ]
    },
    {
     "name": "stdout",
     "output_type": "stream",
     "text": [
      "\u0000"
     ]
    },
    {
     "name": "stderr",
     "output_type": "stream",
     "text": [
      "\u0000Running DVC command: 'stage add --name EvaluateModel --force ...'\n"
     ]
    },
    {
     "name": "stdout",
     "output_type": "stream",
     "text": [
      "\u0000\u0000"
     ]
    },
    {
     "name": "stderr",
     "output_type": "stream",
     "text": [
      "\u0000"
     ]
    }
   ],
   "source": [
    "with zntrack.Project() as proj:\n",
    "    conformations = CreateConformers(num_confs=50)\n",
    "    energies = ComputeEnergies(data=conformations.atoms)\n",
    "    dataset = CreateDatasets(atoms=energies.atoms)\n",
    "    model = TrainModel(X_train=dataset.X_train, y_train=dataset.y_train)\n",
    "    eval = EvaluateModel(\n",
    "        model=model.model, X_test=dataset.X_test, y_test=dataset.y_test\n",
    "    )\n",
    "\n",
    "proj.build()"
   ]
  },
  {
   "cell_type": "code",
   "execution_count": null,
   "metadata": {},
   "outputs": [],
   "source": []
  }
 ],
 "metadata": {
  "kernelspec": {
   "display_name": "spp",
   "language": "python",
   "name": "python3"
  },
  "language_info": {
   "codemirror_mode": {
    "name": "ipython",
    "version": 3
   },
   "file_extension": ".py",
   "mimetype": "text/x-python",
   "name": "python",
   "nbconvert_exporter": "python",
   "pygments_lexer": "ipython3",
   "version": "3.10.12"
  },
  "orig_nbformat": 4
 },
 "nbformat": 4,
 "nbformat_minor": 2
}
